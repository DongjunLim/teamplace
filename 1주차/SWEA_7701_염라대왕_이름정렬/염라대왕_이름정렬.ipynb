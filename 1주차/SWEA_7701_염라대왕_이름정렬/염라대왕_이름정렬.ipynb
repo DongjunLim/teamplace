{
 "cells": [
  {
   "cell_type": "code",
   "execution_count": 29,
   "metadata": {
    "execution": {
     "iopub.execute_input": "2020-07-31T16:37:45.004718Z",
     "iopub.status.busy": "2020-07-31T16:37:45.003166Z",
     "iopub.status.idle": "2020-07-31T16:37:45.037552Z",
     "shell.execute_reply": "2020-07-31T16:37:45.034646Z",
     "shell.execute_reply.started": "2020-07-31T16:37:45.004271Z"
    }
   },
   "outputs": [
    {
     "name": "stdout",
     "output_type": "stream",
     "text": [
      "#1\n",
      "ho\n",
      "is\n",
      "my\n",
      "name\n",
      "seok\n",
      "#2\n",
      "a\n",
      "g\n",
      "j\n",
      "m\n",
      "n\n",
      "s\n",
      "u\n"
     ]
    }
   ],
   "source": [
    "with open(\"input.txt\",\"rt\") as it:\n",
    "    T = int(it.readline())\n",
    "    \n",
    "    for test_case in range(1, T + 1):\n",
    "        N = int(it.readline())\n",
    "        dead_list = list(set([ it.readline().rstrip() for _ in range(N) ]))\n",
    "        dead_list.sort()\n",
    "        dead_list.sort(key=len)\n",
    "        \n",
    "        print('#' + str(test_case))\n",
    "        for name in dead_list:\n",
    "            print(name)\n",
    "            "
   ]
  },
  {
   "cell_type": "code",
   "execution_count": 27,
   "metadata": {
    "execution": {
     "iopub.execute_input": "2020-07-31T16:30:44.765123Z",
     "iopub.status.busy": "2020-07-31T16:30:44.763654Z",
     "iopub.status.idle": "2020-07-31T16:31:02.197216Z",
     "shell.execute_reply": "2020-07-31T16:31:02.193454Z",
     "shell.execute_reply.started": "2020-07-31T16:30:44.764921Z"
    }
   },
   "outputs": [
    {
     "name": "stdin",
     "output_type": "stream",
     "text": [
      " 2\n",
      " 5\n",
      " my\n",
      " name\n",
      " is\n",
      " ho\n",
      " seok\n"
     ]
    },
    {
     "name": "stdout",
     "output_type": "stream",
     "text": [
      "#1\n",
      "ho\n",
      "is\n",
      "my\n",
      "name\n",
      "seok\n"
     ]
    },
    {
     "name": "stdin",
     "output_type": "stream",
     "text": [
      " 12\n",
      " s\n",
      " a\n",
      " m\n",
      " s\n",
      " u\n",
      " n\n",
      " g\n",
      " j\n",
      " j\n",
      " a\n",
      " n\n",
      " g\n"
     ]
    },
    {
     "name": "stdout",
     "output_type": "stream",
     "text": [
      "#2\n",
      "a\n",
      "g\n",
      "j\n",
      "m\n",
      "n\n",
      "s\n",
      "u\n"
     ]
    }
   ],
   "source": [
    "T = int(input())\n",
    "\n",
    "for test_case in range(1, T + 1):\n",
    "    N = int(input())\n",
    "    dead_list = list(set([ input().rstrip() for _ in range(N) ]))\n",
    "    dead_list.sort()\n",
    "    dead_list.sort(key=len)\n",
    "    \n",
    "    print('#' + str(test_case))\n",
    "    for name in dead_list:\n",
    "        print(name)"
   ]
  },
  {
   "cell_type": "code",
   "execution_count": null,
   "metadata": {},
   "outputs": [],
   "source": []
  }
 ],
 "metadata": {
  "kernelspec": {
   "display_name": "Python 3",
   "language": "python",
   "name": "python3"
  },
  "language_info": {
   "codemirror_mode": {
    "name": "ipython",
    "version": 3
   },
   "file_extension": ".py",
   "mimetype": "text/x-python",
   "name": "python",
   "nbconvert_exporter": "python",
   "pygments_lexer": "ipython3",
   "version": "3.7.4"
  }
 },
 "nbformat": 4,
 "nbformat_minor": 4
}
